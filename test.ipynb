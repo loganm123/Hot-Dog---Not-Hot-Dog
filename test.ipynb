{
 "cells": [
  {
   "cell_type": "code",
   "execution_count": 5,
   "metadata": {},
   "outputs": [],
   "source": [
    "from json import load\n",
    "import tensorflow as tf\n",
    "import numpy as np\n",
    "import keras\n",
    "\n",
    "from keras.models import load_model\n",
    "model = load_model('my_model.hdf5')"
   ]
  },
  {
   "cell_type": "code",
   "execution_count": 6,
   "metadata": {},
   "outputs": [
    {
     "name": "stdout",
     "output_type": "stream",
     "text": [
      "1/1 [==============================] - 2s 2s/step\n"
     ]
    }
   ],
   "source": [
    "\n",
    "from PIL import Image\n",
    "import matplotlib as plt\n",
    "img = tf.keras.utils.load_img('hot-dogs.jpg', target_size = (256,256), color_mode = 'rgb')\n",
    "img_tensor = tf.keras.utils.img_to_array(img)\n",
    "img_tensor = keras.utils.normalize(img_tensor,axis=1)\n",
    "prediction = model.predict(tf.expand_dims(img_tensor, axis=0))\n"
   ]
  },
  {
   "cell_type": "code",
   "execution_count": 19,
   "metadata": {},
   "outputs": [
    {
     "name": "stdout",
     "output_type": "stream",
     "text": [
      "Probability it is a hotdog:  0.41122448\n",
      "Probability it is a hotdog:  0.58877546\n"
     ]
    }
   ],
   "source": [
    "prediction\n",
    "print(\"Probability it is a hotdog: \", prediction[0][0])\n",
    "print(\"Probability it is a hotdog: \", prediction[0][1])\n",
    "\n"
   ]
  }
 ],
 "metadata": {
  "kernelspec": {
   "display_name": "Python 3.10.5 64-bit",
   "language": "python",
   "name": "python3"
  },
  "language_info": {
   "codemirror_mode": {
    "name": "ipython",
    "version": 3
   },
   "file_extension": ".py",
   "mimetype": "text/x-python",
   "name": "python",
   "nbconvert_exporter": "python",
   "pygments_lexer": "ipython3",
   "version": "3.10.5"
  },
  "orig_nbformat": 4,
  "vscode": {
   "interpreter": {
    "hash": "369f2c481f4da34e4445cda3fffd2e751bd1c4d706f27375911949ba6bb62e1c"
   }
  }
 },
 "nbformat": 4,
 "nbformat_minor": 2
}
